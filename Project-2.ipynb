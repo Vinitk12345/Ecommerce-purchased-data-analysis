{
 "cells": [
  {
   "cell_type": "code",
   "execution_count": 1,
   "id": "a89f03da-8a57-40af-8d3f-31ce5225446b",
   "metadata": {},
   "outputs": [],
   "source": [
    "import pandas as pd\n",
    "import numpy as np\n",
    "import matplotlib.pyplot as plt\n",
    "import seaborn as sns"
   ]
  },
  {
   "cell_type": "code",
   "execution_count": 2,
   "id": "2fc0e6bc-3d57-4cbe-9375-ec32fa37b083",
   "metadata": {},
   "outputs": [],
   "source": [
    "df = pd.read_csv('Ecommerce Purchases')"
   ]
  },
  {
   "cell_type": "markdown",
   "id": "7f579b83-b155-484d-b170-33e1bb8e8ef8",
   "metadata": {},
   "source": [
    "Q1. Display top 10 Rows of the Dataset"
   ]
  },
  {
   "cell_type": "code",
   "execution_count": 3,
   "id": "b13547e0-bcd1-492d-95fe-447953f8567e",
   "metadata": {},
   "outputs": [
    {
     "data": {
      "text/html": [
       "<div>\n",
       "<style scoped>\n",
       "    .dataframe tbody tr th:only-of-type {\n",
       "        vertical-align: middle;\n",
       "    }\n",
       "\n",
       "    .dataframe tbody tr th {\n",
       "        vertical-align: top;\n",
       "    }\n",
       "\n",
       "    .dataframe thead th {\n",
       "        text-align: right;\n",
       "    }\n",
       "</style>\n",
       "<table border=\"1\" class=\"dataframe\">\n",
       "  <thead>\n",
       "    <tr style=\"text-align: right;\">\n",
       "      <th></th>\n",
       "      <th>Address</th>\n",
       "      <th>Lot</th>\n",
       "      <th>AM or PM</th>\n",
       "      <th>Browser Info</th>\n",
       "      <th>Company</th>\n",
       "      <th>Credit Card</th>\n",
       "      <th>CC Exp Date</th>\n",
       "      <th>CC Security Code</th>\n",
       "      <th>CC Provider</th>\n",
       "      <th>Email</th>\n",
       "      <th>Job</th>\n",
       "      <th>IP Address</th>\n",
       "      <th>Language</th>\n",
       "      <th>Purchase Price</th>\n",
       "    </tr>\n",
       "  </thead>\n",
       "  <tbody>\n",
       "    <tr>\n",
       "      <th>0</th>\n",
       "      <td>16629 Pace Camp Apt. 448\\nAlexisborough, NE 77...</td>\n",
       "      <td>46 in</td>\n",
       "      <td>PM</td>\n",
       "      <td>Opera/9.56.(X11; Linux x86_64; sl-SI) Presto/2...</td>\n",
       "      <td>Martinez-Herman</td>\n",
       "      <td>6011929061123406</td>\n",
       "      <td>02/20</td>\n",
       "      <td>900</td>\n",
       "      <td>JCB 16 digit</td>\n",
       "      <td>pdunlap@yahoo.com</td>\n",
       "      <td>Scientist, product/process development</td>\n",
       "      <td>149.146.147.205</td>\n",
       "      <td>el</td>\n",
       "      <td>98.14</td>\n",
       "    </tr>\n",
       "    <tr>\n",
       "      <th>1</th>\n",
       "      <td>9374 Jasmine Spurs Suite 508\\nSouth John, TN 8...</td>\n",
       "      <td>28 rn</td>\n",
       "      <td>PM</td>\n",
       "      <td>Opera/8.93.(Windows 98; Win 9x 4.90; en-US) Pr...</td>\n",
       "      <td>Fletcher, Richards and Whitaker</td>\n",
       "      <td>3337758169645356</td>\n",
       "      <td>11/18</td>\n",
       "      <td>561</td>\n",
       "      <td>Mastercard</td>\n",
       "      <td>anthony41@reed.com</td>\n",
       "      <td>Drilling engineer</td>\n",
       "      <td>15.160.41.51</td>\n",
       "      <td>fr</td>\n",
       "      <td>70.73</td>\n",
       "    </tr>\n",
       "    <tr>\n",
       "      <th>2</th>\n",
       "      <td>Unit 0065 Box 5052\\nDPO AP 27450</td>\n",
       "      <td>94 vE</td>\n",
       "      <td>PM</td>\n",
       "      <td>Mozilla/5.0 (compatible; MSIE 9.0; Windows NT ...</td>\n",
       "      <td>Simpson, Williams and Pham</td>\n",
       "      <td>675957666125</td>\n",
       "      <td>08/19</td>\n",
       "      <td>699</td>\n",
       "      <td>JCB 16 digit</td>\n",
       "      <td>amymiller@morales-harrison.com</td>\n",
       "      <td>Customer service manager</td>\n",
       "      <td>132.207.160.22</td>\n",
       "      <td>de</td>\n",
       "      <td>0.95</td>\n",
       "    </tr>\n",
       "    <tr>\n",
       "      <th>3</th>\n",
       "      <td>7780 Julia Fords\\nNew Stacy, WA 45798</td>\n",
       "      <td>36 vm</td>\n",
       "      <td>PM</td>\n",
       "      <td>Mozilla/5.0 (Macintosh; Intel Mac OS X 10_8_0 ...</td>\n",
       "      <td>Williams, Marshall and Buchanan</td>\n",
       "      <td>6011578504430710</td>\n",
       "      <td>02/24</td>\n",
       "      <td>384</td>\n",
       "      <td>Discover</td>\n",
       "      <td>brent16@olson-robinson.info</td>\n",
       "      <td>Drilling engineer</td>\n",
       "      <td>30.250.74.19</td>\n",
       "      <td>es</td>\n",
       "      <td>78.04</td>\n",
       "    </tr>\n",
       "    <tr>\n",
       "      <th>4</th>\n",
       "      <td>23012 Munoz Drive Suite 337\\nNew Cynthia, TX 5...</td>\n",
       "      <td>20 IE</td>\n",
       "      <td>AM</td>\n",
       "      <td>Opera/9.58.(X11; Linux x86_64; it-IT) Presto/2...</td>\n",
       "      <td>Brown, Watson and Andrews</td>\n",
       "      <td>6011456623207998</td>\n",
       "      <td>10/25</td>\n",
       "      <td>678</td>\n",
       "      <td>Diners Club / Carte Blanche</td>\n",
       "      <td>christopherwright@gmail.com</td>\n",
       "      <td>Fine artist</td>\n",
       "      <td>24.140.33.94</td>\n",
       "      <td>es</td>\n",
       "      <td>77.82</td>\n",
       "    </tr>\n",
       "    <tr>\n",
       "      <th>5</th>\n",
       "      <td>7502 Powell Mission Apt. 768\\nTravisland, VA 3...</td>\n",
       "      <td>21 XT</td>\n",
       "      <td>PM</td>\n",
       "      <td>Mozilla/5.0 (Macintosh; U; PPC Mac OS X 10_8_5...</td>\n",
       "      <td>Silva-Anderson</td>\n",
       "      <td>30246185196287</td>\n",
       "      <td>07/25</td>\n",
       "      <td>7169</td>\n",
       "      <td>Discover</td>\n",
       "      <td>ynguyen@gmail.com</td>\n",
       "      <td>Fish farm manager</td>\n",
       "      <td>55.96.152.147</td>\n",
       "      <td>ru</td>\n",
       "      <td>25.15</td>\n",
       "    </tr>\n",
       "    <tr>\n",
       "      <th>6</th>\n",
       "      <td>93971 Conway Causeway\\nAndersonburgh, AZ 75107</td>\n",
       "      <td>96 Xt</td>\n",
       "      <td>AM</td>\n",
       "      <td>Mozilla/5.0 (compatible; MSIE 7.0; Windows NT ...</td>\n",
       "      <td>Gibson and Sons</td>\n",
       "      <td>6011398782655569</td>\n",
       "      <td>07/24</td>\n",
       "      <td>714</td>\n",
       "      <td>VISA 16 digit</td>\n",
       "      <td>olivia04@yahoo.com</td>\n",
       "      <td>Dancer</td>\n",
       "      <td>127.252.144.18</td>\n",
       "      <td>de</td>\n",
       "      <td>88.56</td>\n",
       "    </tr>\n",
       "    <tr>\n",
       "      <th>7</th>\n",
       "      <td>260 Rachel Plains Suite 366\\nCastroberg, WV 24...</td>\n",
       "      <td>96 pG</td>\n",
       "      <td>PM</td>\n",
       "      <td>Mozilla/5.0 (X11; Linux i686) AppleWebKit/5350...</td>\n",
       "      <td>Marshall-Collins</td>\n",
       "      <td>561252141909</td>\n",
       "      <td>06/25</td>\n",
       "      <td>256</td>\n",
       "      <td>VISA 13 digit</td>\n",
       "      <td>phillip48@parks.info</td>\n",
       "      <td>Event organiser</td>\n",
       "      <td>224.247.97.150</td>\n",
       "      <td>pt</td>\n",
       "      <td>44.25</td>\n",
       "    </tr>\n",
       "    <tr>\n",
       "      <th>8</th>\n",
       "      <td>2129 Dylan Burg\\nNew Michelle, ME 28650</td>\n",
       "      <td>45 JN</td>\n",
       "      <td>PM</td>\n",
       "      <td>Mozilla/5.0 (Macintosh; U; Intel Mac OS X 10_7...</td>\n",
       "      <td>Galloway and Sons</td>\n",
       "      <td>180041795790001</td>\n",
       "      <td>04/24</td>\n",
       "      <td>899</td>\n",
       "      <td>JCB 16 digit</td>\n",
       "      <td>kdavis@rasmussen.com</td>\n",
       "      <td>Financial manager</td>\n",
       "      <td>146.234.201.229</td>\n",
       "      <td>ru</td>\n",
       "      <td>59.54</td>\n",
       "    </tr>\n",
       "    <tr>\n",
       "      <th>9</th>\n",
       "      <td>3795 Dawson Extensions\\nLake Tinafort, ID 88739</td>\n",
       "      <td>15 Ug</td>\n",
       "      <td>AM</td>\n",
       "      <td>Mozilla/5.0 (X11; Linux i686; rv:1.9.7.20) Gec...</td>\n",
       "      <td>Rivera, Buchanan and Ramirez</td>\n",
       "      <td>4396283918371</td>\n",
       "      <td>01/17</td>\n",
       "      <td>931</td>\n",
       "      <td>American Express</td>\n",
       "      <td>qcoleman@hunt-huerta.com</td>\n",
       "      <td>Forensic scientist</td>\n",
       "      <td>236.198.199.8</td>\n",
       "      <td>zh</td>\n",
       "      <td>95.63</td>\n",
       "    </tr>\n",
       "  </tbody>\n",
       "</table>\n",
       "</div>"
      ],
      "text/plain": [
       "                                             Address    Lot AM or PM  \\\n",
       "0  16629 Pace Camp Apt. 448\\nAlexisborough, NE 77...  46 in       PM   \n",
       "1  9374 Jasmine Spurs Suite 508\\nSouth John, TN 8...  28 rn       PM   \n",
       "2                   Unit 0065 Box 5052\\nDPO AP 27450  94 vE       PM   \n",
       "3              7780 Julia Fords\\nNew Stacy, WA 45798  36 vm       PM   \n",
       "4  23012 Munoz Drive Suite 337\\nNew Cynthia, TX 5...  20 IE       AM   \n",
       "5  7502 Powell Mission Apt. 768\\nTravisland, VA 3...  21 XT       PM   \n",
       "6     93971 Conway Causeway\\nAndersonburgh, AZ 75107  96 Xt       AM   \n",
       "7  260 Rachel Plains Suite 366\\nCastroberg, WV 24...  96 pG       PM   \n",
       "8            2129 Dylan Burg\\nNew Michelle, ME 28650  45 JN       PM   \n",
       "9    3795 Dawson Extensions\\nLake Tinafort, ID 88739  15 Ug       AM   \n",
       "\n",
       "                                        Browser Info  \\\n",
       "0  Opera/9.56.(X11; Linux x86_64; sl-SI) Presto/2...   \n",
       "1  Opera/8.93.(Windows 98; Win 9x 4.90; en-US) Pr...   \n",
       "2  Mozilla/5.0 (compatible; MSIE 9.0; Windows NT ...   \n",
       "3  Mozilla/5.0 (Macintosh; Intel Mac OS X 10_8_0 ...   \n",
       "4  Opera/9.58.(X11; Linux x86_64; it-IT) Presto/2...   \n",
       "5  Mozilla/5.0 (Macintosh; U; PPC Mac OS X 10_8_5...   \n",
       "6  Mozilla/5.0 (compatible; MSIE 7.0; Windows NT ...   \n",
       "7  Mozilla/5.0 (X11; Linux i686) AppleWebKit/5350...   \n",
       "8  Mozilla/5.0 (Macintosh; U; Intel Mac OS X 10_7...   \n",
       "9  Mozilla/5.0 (X11; Linux i686; rv:1.9.7.20) Gec...   \n",
       "\n",
       "                           Company       Credit Card CC Exp Date  \\\n",
       "0                  Martinez-Herman  6011929061123406       02/20   \n",
       "1  Fletcher, Richards and Whitaker  3337758169645356       11/18   \n",
       "2       Simpson, Williams and Pham      675957666125       08/19   \n",
       "3  Williams, Marshall and Buchanan  6011578504430710       02/24   \n",
       "4        Brown, Watson and Andrews  6011456623207998       10/25   \n",
       "5                   Silva-Anderson    30246185196287       07/25   \n",
       "6                  Gibson and Sons  6011398782655569       07/24   \n",
       "7                 Marshall-Collins      561252141909       06/25   \n",
       "8                Galloway and Sons   180041795790001       04/24   \n",
       "9     Rivera, Buchanan and Ramirez     4396283918371       01/17   \n",
       "\n",
       "   CC Security Code                  CC Provider  \\\n",
       "0               900                 JCB 16 digit   \n",
       "1               561                   Mastercard   \n",
       "2               699                 JCB 16 digit   \n",
       "3               384                     Discover   \n",
       "4               678  Diners Club / Carte Blanche   \n",
       "5              7169                     Discover   \n",
       "6               714                VISA 16 digit   \n",
       "7               256                VISA 13 digit   \n",
       "8               899                 JCB 16 digit   \n",
       "9               931             American Express   \n",
       "\n",
       "                            Email                                     Job  \\\n",
       "0               pdunlap@yahoo.com  Scientist, product/process development   \n",
       "1              anthony41@reed.com                       Drilling engineer   \n",
       "2  amymiller@morales-harrison.com                Customer service manager   \n",
       "3     brent16@olson-robinson.info                       Drilling engineer   \n",
       "4     christopherwright@gmail.com                             Fine artist   \n",
       "5               ynguyen@gmail.com                       Fish farm manager   \n",
       "6              olivia04@yahoo.com                                  Dancer   \n",
       "7            phillip48@parks.info                         Event organiser   \n",
       "8            kdavis@rasmussen.com                       Financial manager   \n",
       "9        qcoleman@hunt-huerta.com                      Forensic scientist   \n",
       "\n",
       "        IP Address Language  Purchase Price  \n",
       "0  149.146.147.205       el           98.14  \n",
       "1     15.160.41.51       fr           70.73  \n",
       "2   132.207.160.22       de            0.95  \n",
       "3     30.250.74.19       es           78.04  \n",
       "4     24.140.33.94       es           77.82  \n",
       "5    55.96.152.147       ru           25.15  \n",
       "6   127.252.144.18       de           88.56  \n",
       "7   224.247.97.150       pt           44.25  \n",
       "8  146.234.201.229       ru           59.54  \n",
       "9    236.198.199.8       zh           95.63  "
      ]
     },
     "execution_count": 3,
     "metadata": {},
     "output_type": "execute_result"
    }
   ],
   "source": [
    "df.head(10)"
   ]
  },
  {
   "cell_type": "code",
   "execution_count": 4,
   "id": "3edcab74-ee36-4b7d-8225-45a6c5c8682b",
   "metadata": {},
   "outputs": [
    {
     "data": {
      "text/html": [
       "<div>\n",
       "<style scoped>\n",
       "    .dataframe tbody tr th:only-of-type {\n",
       "        vertical-align: middle;\n",
       "    }\n",
       "\n",
       "    .dataframe tbody tr th {\n",
       "        vertical-align: top;\n",
       "    }\n",
       "\n",
       "    .dataframe thead th {\n",
       "        text-align: right;\n",
       "    }\n",
       "</style>\n",
       "<table border=\"1\" class=\"dataframe\">\n",
       "  <thead>\n",
       "    <tr style=\"text-align: right;\">\n",
       "      <th></th>\n",
       "      <th>Address</th>\n",
       "      <th>Lot</th>\n",
       "      <th>AM or PM</th>\n",
       "      <th>Browser Info</th>\n",
       "      <th>Company</th>\n",
       "      <th>Credit Card</th>\n",
       "      <th>CC Exp Date</th>\n",
       "      <th>CC Security Code</th>\n",
       "      <th>CC Provider</th>\n",
       "      <th>Email</th>\n",
       "      <th>Job</th>\n",
       "      <th>IP Address</th>\n",
       "      <th>Language</th>\n",
       "      <th>Purchase Price</th>\n",
       "    </tr>\n",
       "  </thead>\n",
       "  <tbody>\n",
       "    <tr>\n",
       "      <th>3802</th>\n",
       "      <td>0843 Bobby Port\\nGordonbury, VT 23015-8557</td>\n",
       "      <td>57 sr</td>\n",
       "      <td>AM</td>\n",
       "      <td>Mozilla/5.0 (Macintosh; U; PPC Mac OS X 10_5_4...</td>\n",
       "      <td>Cruz PLC</td>\n",
       "      <td>6011081720218290</td>\n",
       "      <td>08/19</td>\n",
       "      <td>475</td>\n",
       "      <td>JCB 16 digit</td>\n",
       "      <td>tiffanylong@alvarez-frey.com</td>\n",
       "      <td>Sales executive</td>\n",
       "      <td>238.205.226.100</td>\n",
       "      <td>it</td>\n",
       "      <td>1.30</td>\n",
       "    </tr>\n",
       "    <tr>\n",
       "      <th>3803</th>\n",
       "      <td>92679 Brown Parks\\nEast Jason, IA 85954</td>\n",
       "      <td>53 lx</td>\n",
       "      <td>AM</td>\n",
       "      <td>Mozilla/5.0 (Macintosh; PPC Mac OS X 10_8_4; r...</td>\n",
       "      <td>Ward Inc</td>\n",
       "      <td>347812781765342</td>\n",
       "      <td>11/23</td>\n",
       "      <td>724</td>\n",
       "      <td>VISA 16 digit</td>\n",
       "      <td>vickistafford@hanson.net</td>\n",
       "      <td>Fisheries officer</td>\n",
       "      <td>191.111.91.133</td>\n",
       "      <td>ru</td>\n",
       "      <td>1.20</td>\n",
       "    </tr>\n",
       "    <tr>\n",
       "      <th>3804</th>\n",
       "      <td>76678 Melissa Track\\nSnowville, MP 02252</td>\n",
       "      <td>20 HG</td>\n",
       "      <td>AM</td>\n",
       "      <td>Mozilla/5.0 (Macintosh; Intel Mac OS X 10_6_5 ...</td>\n",
       "      <td>Meyer-Howe</td>\n",
       "      <td>675940649469</td>\n",
       "      <td>01/19</td>\n",
       "      <td>209</td>\n",
       "      <td>American Express</td>\n",
       "      <td>andrew41@coffey.org</td>\n",
       "      <td>Hydrologist</td>\n",
       "      <td>152.125.105.87</td>\n",
       "      <td>it</td>\n",
       "      <td>37.53</td>\n",
       "    </tr>\n",
       "    <tr>\n",
       "      <th>3805</th>\n",
       "      <td>USNS Anderson\\nFPO AP 85662-4006</td>\n",
       "      <td>65 vG</td>\n",
       "      <td>PM</td>\n",
       "      <td>Mozilla/5.0 (Windows; U; Windows NT 5.0) Apple...</td>\n",
       "      <td>York-Baker</td>\n",
       "      <td>630486483286</td>\n",
       "      <td>03/20</td>\n",
       "      <td>992</td>\n",
       "      <td>JCB 16 digit</td>\n",
       "      <td>xryan@coffey-gordon.com</td>\n",
       "      <td>Engineer, maintenance (IT)</td>\n",
       "      <td>188.203.215.48</td>\n",
       "      <td>es</td>\n",
       "      <td>76.10</td>\n",
       "    </tr>\n",
       "    <tr>\n",
       "      <th>3806</th>\n",
       "      <td>6598 Chad Extensions\\nNorristown, TX 53321</td>\n",
       "      <td>49 GN</td>\n",
       "      <td>AM</td>\n",
       "      <td>Mozilla/5.0 (Windows; U; Windows NT 5.01) Appl...</td>\n",
       "      <td>Ho LLC</td>\n",
       "      <td>3088701630877605</td>\n",
       "      <td>10/17</td>\n",
       "      <td>865</td>\n",
       "      <td>Voyager</td>\n",
       "      <td>nspence@davis-cruz.com</td>\n",
       "      <td>Psychiatric nurse</td>\n",
       "      <td>126.220.202.8</td>\n",
       "      <td>es</td>\n",
       "      <td>29.56</td>\n",
       "    </tr>\n",
       "    <tr>\n",
       "      <th>3807</th>\n",
       "      <td>48419 James Villages\\nCharlesside, MN 05281</td>\n",
       "      <td>16 Od</td>\n",
       "      <td>PM</td>\n",
       "      <td>Mozilla/5.0 (iPod; U; CPU iPhone OS 3_0 like M...</td>\n",
       "      <td>Gray Group</td>\n",
       "      <td>3158950215096082</td>\n",
       "      <td>02/17</td>\n",
       "      <td>42</td>\n",
       "      <td>American Express</td>\n",
       "      <td>conniemyers@dixon-hoover.biz</td>\n",
       "      <td>Plant breeder/geneticist</td>\n",
       "      <td>185.183.203.158</td>\n",
       "      <td>es</td>\n",
       "      <td>70.32</td>\n",
       "    </tr>\n",
       "    <tr>\n",
       "      <th>3808</th>\n",
       "      <td>41420 Morgan Square\\nNew Sylviaton, NH 91906</td>\n",
       "      <td>04 lg</td>\n",
       "      <td>AM</td>\n",
       "      <td>Mozilla/5.0 (iPod; U; CPU iPhone OS 4_3 like M...</td>\n",
       "      <td>Sanchez-Pugh</td>\n",
       "      <td>30144466817368</td>\n",
       "      <td>02/24</td>\n",
       "      <td>660</td>\n",
       "      <td>Maestro</td>\n",
       "      <td>bradleywilliam@pineda-buchanan.com</td>\n",
       "      <td>Environmental health practitioner</td>\n",
       "      <td>20.125.230.98</td>\n",
       "      <td>pt</td>\n",
       "      <td>8.30</td>\n",
       "    </tr>\n",
       "    <tr>\n",
       "      <th>3809</th>\n",
       "      <td>308 Dixon Fords Suite 923\\nNicoleton, MH 45145</td>\n",
       "      <td>52 YN</td>\n",
       "      <td>AM</td>\n",
       "      <td>Mozilla/5.0 (Macintosh; Intel Mac OS X 10_7_8)...</td>\n",
       "      <td>Graham, Walker and Frazier</td>\n",
       "      <td>869929666344262</td>\n",
       "      <td>04/24</td>\n",
       "      <td>262</td>\n",
       "      <td>JCB 16 digit</td>\n",
       "      <td>laurengill@hotmail.com</td>\n",
       "      <td>Hotel manager</td>\n",
       "      <td>206.199.193.146</td>\n",
       "      <td>fr</td>\n",
       "      <td>3.73</td>\n",
       "    </tr>\n",
       "    <tr>\n",
       "      <th>3810</th>\n",
       "      <td>7016 Richard Center Apt. 216\\nNew Paulburgh, C...</td>\n",
       "      <td>53 WU</td>\n",
       "      <td>AM</td>\n",
       "      <td>Mozilla/5.0 (Macintosh; PPC Mac OS X 10_8_4; r...</td>\n",
       "      <td>Kim, Harris and Lee</td>\n",
       "      <td>3528700667851234</td>\n",
       "      <td>11/18</td>\n",
       "      <td>435</td>\n",
       "      <td>American Express</td>\n",
       "      <td>balljessica@yahoo.com</td>\n",
       "      <td>Engineer, communications</td>\n",
       "      <td>33.68.160.144</td>\n",
       "      <td>zh</td>\n",
       "      <td>49.73</td>\n",
       "    </tr>\n",
       "    <tr>\n",
       "      <th>3811</th>\n",
       "      <td>625 Mclaughlin Inlet Apt. 375\\nSouth Ruben, CO...</td>\n",
       "      <td>94 he</td>\n",
       "      <td>PM</td>\n",
       "      <td>Mozilla/5.0 (compatible; MSIE 9.0; Windows CE;...</td>\n",
       "      <td>Banks Group</td>\n",
       "      <td>869974335345498</td>\n",
       "      <td>01/22</td>\n",
       "      <td>457</td>\n",
       "      <td>Voyager</td>\n",
       "      <td>simmonsmelanie@gmail.com</td>\n",
       "      <td>Multimedia specialist</td>\n",
       "      <td>88.14.181.</td>\n",
       "      <td>NaN</td>\n",
       "      <td>NaN</td>\n",
       "    </tr>\n",
       "  </tbody>\n",
       "</table>\n",
       "</div>"
      ],
      "text/plain": [
       "                                                Address    Lot AM or PM  \\\n",
       "3802         0843 Bobby Port\\nGordonbury, VT 23015-8557  57 sr       AM   \n",
       "3803            92679 Brown Parks\\nEast Jason, IA 85954  53 lx       AM   \n",
       "3804           76678 Melissa Track\\nSnowville, MP 02252  20 HG       AM   \n",
       "3805                   USNS Anderson\\nFPO AP 85662-4006  65 vG       PM   \n",
       "3806         6598 Chad Extensions\\nNorristown, TX 53321  49 GN       AM   \n",
       "3807        48419 James Villages\\nCharlesside, MN 05281  16 Od       PM   \n",
       "3808       41420 Morgan Square\\nNew Sylviaton, NH 91906  04 lg       AM   \n",
       "3809     308 Dixon Fords Suite 923\\nNicoleton, MH 45145  52 YN       AM   \n",
       "3810  7016 Richard Center Apt. 216\\nNew Paulburgh, C...  53 WU       AM   \n",
       "3811  625 Mclaughlin Inlet Apt. 375\\nSouth Ruben, CO...  94 he       PM   \n",
       "\n",
       "                                           Browser Info  \\\n",
       "3802  Mozilla/5.0 (Macintosh; U; PPC Mac OS X 10_5_4...   \n",
       "3803  Mozilla/5.0 (Macintosh; PPC Mac OS X 10_8_4; r...   \n",
       "3804  Mozilla/5.0 (Macintosh; Intel Mac OS X 10_6_5 ...   \n",
       "3805  Mozilla/5.0 (Windows; U; Windows NT 5.0) Apple...   \n",
       "3806  Mozilla/5.0 (Windows; U; Windows NT 5.01) Appl...   \n",
       "3807  Mozilla/5.0 (iPod; U; CPU iPhone OS 3_0 like M...   \n",
       "3808  Mozilla/5.0 (iPod; U; CPU iPhone OS 4_3 like M...   \n",
       "3809  Mozilla/5.0 (Macintosh; Intel Mac OS X 10_7_8)...   \n",
       "3810  Mozilla/5.0 (Macintosh; PPC Mac OS X 10_8_4; r...   \n",
       "3811  Mozilla/5.0 (compatible; MSIE 9.0; Windows CE;...   \n",
       "\n",
       "                         Company       Credit Card CC Exp Date  \\\n",
       "3802                    Cruz PLC  6011081720218290       08/19   \n",
       "3803                    Ward Inc   347812781765342       11/23   \n",
       "3804                  Meyer-Howe      675940649469       01/19   \n",
       "3805                  York-Baker      630486483286       03/20   \n",
       "3806                      Ho LLC  3088701630877605       10/17   \n",
       "3807                  Gray Group  3158950215096082       02/17   \n",
       "3808                Sanchez-Pugh    30144466817368       02/24   \n",
       "3809  Graham, Walker and Frazier   869929666344262       04/24   \n",
       "3810         Kim, Harris and Lee  3528700667851234       11/18   \n",
       "3811                 Banks Group   869974335345498       01/22   \n",
       "\n",
       "      CC Security Code       CC Provider                               Email  \\\n",
       "3802               475      JCB 16 digit        tiffanylong@alvarez-frey.com   \n",
       "3803               724     VISA 16 digit            vickistafford@hanson.net   \n",
       "3804               209  American Express                 andrew41@coffey.org   \n",
       "3805               992      JCB 16 digit             xryan@coffey-gordon.com   \n",
       "3806               865           Voyager              nspence@davis-cruz.com   \n",
       "3807                42  American Express        conniemyers@dixon-hoover.biz   \n",
       "3808               660           Maestro  bradleywilliam@pineda-buchanan.com   \n",
       "3809               262      JCB 16 digit              laurengill@hotmail.com   \n",
       "3810               435  American Express               balljessica@yahoo.com   \n",
       "3811               457           Voyager            simmonsmelanie@gmail.com   \n",
       "\n",
       "                                    Job       IP Address Language  \\\n",
       "3802                    Sales executive  238.205.226.100       it   \n",
       "3803                  Fisheries officer   191.111.91.133       ru   \n",
       "3804                        Hydrologist   152.125.105.87       it   \n",
       "3805         Engineer, maintenance (IT)   188.203.215.48       es   \n",
       "3806                  Psychiatric nurse    126.220.202.8       es   \n",
       "3807           Plant breeder/geneticist  185.183.203.158       es   \n",
       "3808  Environmental health practitioner    20.125.230.98       pt   \n",
       "3809                      Hotel manager  206.199.193.146       fr   \n",
       "3810           Engineer, communications    33.68.160.144       zh   \n",
       "3811              Multimedia specialist       88.14.181.      NaN   \n",
       "\n",
       "      Purchase Price  \n",
       "3802            1.30  \n",
       "3803            1.20  \n",
       "3804           37.53  \n",
       "3805           76.10  \n",
       "3806           29.56  \n",
       "3807           70.32  \n",
       "3808            8.30  \n",
       "3809            3.73  \n",
       "3810           49.73  \n",
       "3811             NaN  "
      ]
     },
     "execution_count": 4,
     "metadata": {},
     "output_type": "execute_result"
    }
   ],
   "source": [
    "df.tail(10) #Check last 10 rows of the dataframe"
   ]
  },
  {
   "cell_type": "code",
   "execution_count": 5,
   "id": "c0b1ce25-795d-43ed-84ce-dc8cc7565f55",
   "metadata": {},
   "outputs": [
    {
     "name": "stdout",
     "output_type": "stream",
     "text": [
      "<class 'pandas.core.frame.DataFrame'>\n",
      "RangeIndex: 3812 entries, 0 to 3811\n",
      "Data columns (total 14 columns):\n",
      " #   Column            Non-Null Count  Dtype  \n",
      "---  ------            --------------  -----  \n",
      " 0   Address           3812 non-null   object \n",
      " 1   Lot               3812 non-null   object \n",
      " 2   AM or PM          3812 non-null   object \n",
      " 3   Browser Info      3812 non-null   object \n",
      " 4   Company           3812 non-null   object \n",
      " 5   Credit Card       3812 non-null   int64  \n",
      " 6   CC Exp Date       3812 non-null   object \n",
      " 7   CC Security Code  3812 non-null   int64  \n",
      " 8   CC Provider       3812 non-null   object \n",
      " 9   Email             3812 non-null   object \n",
      " 10  Job               3812 non-null   object \n",
      " 11  IP Address        3812 non-null   object \n",
      " 12  Language          3811 non-null   object \n",
      " 13  Purchase Price    3811 non-null   float64\n",
      "dtypes: float64(1), int64(2), object(11)\n",
      "memory usage: 417.1+ KB\n"
     ]
    }
   ],
   "source": [
    "df.info() #to check the datatype of each column along with null values"
   ]
  },
  {
   "cell_type": "code",
   "execution_count": 6,
   "id": "c41eabf0-1f05-409d-81d4-2765d6863c10",
   "metadata": {},
   "outputs": [
    {
     "data": {
      "text/plain": [
       "Address              object\n",
       "Lot                  object\n",
       "AM or PM             object\n",
       "Browser Info         object\n",
       "Company              object\n",
       "Credit Card           int64\n",
       "CC Exp Date          object\n",
       "CC Security Code      int64\n",
       "CC Provider          object\n",
       "Email                object\n",
       "Job                  object\n",
       "IP Address           object\n",
       "Language             object\n",
       "Purchase Price      float64\n",
       "dtype: object"
      ]
     },
     "execution_count": 6,
     "metadata": {},
     "output_type": "execute_result"
    }
   ],
   "source": [
    "df.dtypes #simplest way to check the dtypes of each and every column"
   ]
  },
  {
   "cell_type": "code",
   "execution_count": 7,
   "id": "8af6cd43-eb2a-4f75-82fa-0d50fb0411a1",
   "metadata": {},
   "outputs": [
    {
     "data": {
      "text/plain": [
       "Address             0\n",
       "Lot                 0\n",
       "AM or PM            0\n",
       "Browser Info        0\n",
       "Company             0\n",
       "Credit Card         0\n",
       "CC Exp Date         0\n",
       "CC Security Code    0\n",
       "CC Provider         0\n",
       "Email               0\n",
       "Job                 0\n",
       "IP Address          0\n",
       "Language            1\n",
       "Purchase Price      1\n",
       "dtype: int64"
      ]
     },
     "execution_count": 7,
     "metadata": {},
     "output_type": "execute_result"
    }
   ],
   "source": [
    "#to check null values in the data set in numbers\n",
    "\n",
    "df.isnull().sum()"
   ]
  },
  {
   "cell_type": "code",
   "execution_count": 8,
   "id": "5f9051c0-b07a-4842-826d-2edb614cc0c7",
   "metadata": {},
   "outputs": [
    {
     "data": {
      "text/plain": [
       "Address             0\n",
       "Lot                 0\n",
       "AM or PM            0\n",
       "Browser Info        0\n",
       "Company             0\n",
       "Credit Card         0\n",
       "CC Exp Date         0\n",
       "CC Security Code    0\n",
       "CC Provider         0\n",
       "Email               0\n",
       "Job                 0\n",
       "IP Address          0\n",
       "Language            0\n",
       "Purchase Price      0\n",
       "dtype: int64"
      ]
     },
     "execution_count": 8,
     "metadata": {},
     "output_type": "execute_result"
    }
   ],
   "source": [
    "#to remove the null values >>\n",
    "\n",
    "df.dropna().isnull().sum()"
   ]
  },
  {
   "cell_type": "code",
   "execution_count": 9,
   "id": "a6520dda-7653-4337-9b01-5ee265f496cf",
   "metadata": {},
   "outputs": [
    {
     "data": {
      "text/plain": [
       "(3812, 14)"
      ]
     },
     "execution_count": 9,
     "metadata": {},
     "output_type": "execute_result"
    }
   ],
   "source": [
    "df.shape #to check the rows and columns"
   ]
  },
  {
   "cell_type": "code",
   "execution_count": 10,
   "id": "27c2de06-6b89-4ba0-9e65-1ee5d444d993",
   "metadata": {},
   "outputs": [
    {
     "data": {
      "text/plain": [
       "Index(['Address', 'Lot', 'AM or PM', 'Browser Info', 'Company', 'Credit Card',\n",
       "       'CC Exp Date', 'CC Security Code', 'CC Provider', 'Email', 'Job',\n",
       "       'IP Address', 'Language', 'Purchase Price'],\n",
       "      dtype='object')"
      ]
     },
     "execution_count": 10,
     "metadata": {},
     "output_type": "execute_result"
    }
   ],
   "source": [
    "df.columns #to check the name of the each column"
   ]
  },
  {
   "cell_type": "code",
   "execution_count": 11,
   "id": "a5ce31af-3ccc-4cf4-b6b7-16422b8d6943",
   "metadata": {},
   "outputs": [
    {
     "data": {
      "text/plain": [
       "14"
      ]
     },
     "execution_count": 11,
     "metadata": {},
     "output_type": "execute_result"
    }
   ],
   "source": [
    "len(df.columns) #to check the numbers of columns"
   ]
  },
  {
   "cell_type": "code",
   "execution_count": 12,
   "id": "43c181a0-5351-4acb-ae29-b2a566e57a84",
   "metadata": {},
   "outputs": [
    {
     "data": {
      "text/plain": [
       "np.float64(0.0)"
      ]
     },
     "execution_count": 12,
     "metadata": {},
     "output_type": "execute_result"
    }
   ],
   "source": [
    "#to check the highest and lowest purchase >> \n",
    "df['Purchase Price'].min()"
   ]
  },
  {
   "cell_type": "code",
   "execution_count": 13,
   "id": "8bed7e7a-c78d-45b7-ae35-d3f8210a555e",
   "metadata": {},
   "outputs": [
    {
     "data": {
      "text/plain": [
       "np.float64(99.99)"
      ]
     },
     "execution_count": 13,
     "metadata": {},
     "output_type": "execute_result"
    }
   ],
   "source": [
    "df['Purchase Price'].max()"
   ]
  },
  {
   "cell_type": "code",
   "execution_count": 14,
   "id": "12f44df8-ed74-4613-800d-68d18e8fcc07",
   "metadata": {},
   "outputs": [
    {
     "data": {
      "text/plain": [
       "np.float64(50.30394647074259)"
      ]
     },
     "execution_count": 14,
     "metadata": {},
     "output_type": "execute_result"
    }
   ],
   "source": [
    "#to check avg purchase price >>\n",
    "df['Purchase Price'].mean()"
   ]
  },
  {
   "cell_type": "markdown",
   "id": "89b1afe0-c496-40b9-ab4f-ec73aa10a2a5",
   "metadata": {},
   "source": [
    "#how many people have french as their language"
   ]
  },
  {
   "cell_type": "code",
   "execution_count": 15,
   "id": "1346d581-2614-4e61-9ab3-9e44536480a2",
   "metadata": {},
   "outputs": [
    {
     "data": {
      "text/plain": [
       "np.int64(453)"
      ]
     },
     "execution_count": 15,
     "metadata": {},
     "output_type": "execute_result"
    }
   ],
   "source": [
    "(df.Language == 'fr').sum()"
   ]
  },
  {
   "cell_type": "code",
   "execution_count": 16,
   "id": "ec0cc258-8e1e-434b-94d8-833aa75d2491",
   "metadata": {},
   "outputs": [
    {
     "data": {
      "text/plain": [
       "Address             453\n",
       "Lot                 453\n",
       "AM or PM            453\n",
       "Browser Info        453\n",
       "Company             453\n",
       "Credit Card         453\n",
       "CC Exp Date         453\n",
       "CC Security Code    453\n",
       "CC Provider         453\n",
       "Email               453\n",
       "Job                 453\n",
       "IP Address          453\n",
       "Language            453\n",
       "Purchase Price      453\n",
       "dtype: int64"
      ]
     },
     "execution_count": 16,
     "metadata": {},
     "output_type": "execute_result"
    }
   ],
   "source": [
    "df[df.Language == 'fr'].count()"
   ]
  },
  {
   "cell_type": "markdown",
   "id": "2eee0648-f407-4872-9f41-4ddfa94ba623",
   "metadata": {},
   "source": [
    "#Job titles of contains Engineer >> "
   ]
  },
  {
   "cell_type": "markdown",
   "id": "8a7776eb-323a-4b82-b447-339a47d714a1",
   "metadata": {},
   "source": [
    "df.columns"
   ]
  },
  {
   "cell_type": "code",
   "execution_count": 17,
   "id": "b71d115e-c8ae-4911-8509-ef73f69a076f",
   "metadata": {},
   "outputs": [
    {
     "data": {
      "text/plain": [
       "np.int64(9)"
      ]
     },
     "execution_count": 17,
     "metadata": {},
     "output_type": "execute_result"
    }
   ],
   "source": [
    "(df.Job == 'Drilling engineer').sum() #for a particular Drilling engineer"
   ]
  },
  {
   "cell_type": "code",
   "execution_count": 18,
   "id": "4a9a0c6e-bf37-4644-9ab2-2cf450fe8ccb",
   "metadata": {},
   "outputs": [
    {
     "data": {
      "text/plain": [
       "np.int64(389)"
      ]
     },
     "execution_count": 18,
     "metadata": {},
     "output_type": "execute_result"
    }
   ],
   "source": [
    "df.Job.str.contains('engineer', case = False).sum() #to make it case sensitive"
   ]
  },
  {
   "cell_type": "code",
   "execution_count": 19,
   "id": "588e894a-7002-4159-af41-63e9d202cf6f",
   "metadata": {},
   "outputs": [
    {
     "data": {
      "text/plain": [
       "2    amymiller@morales-harrison.com\n",
       "Name: Email, dtype: object"
      ]
     },
     "execution_count": 19,
     "metadata": {},
     "output_type": "execute_result"
    }
   ],
   "source": [
    "#find email of the person with the following IP address :  132.207.160.22\n",
    "df[df[\"IP Address\"] == \"132.207.160.22\"]['Email']"
   ]
  },
  {
   "cell_type": "markdown",
   "id": "5be2fb50-8e39-49db-bdc9-8adfeb363e52",
   "metadata": {},
   "source": [
    "#how many customers have mastercard as their credit card provider and made a purchase above 50?"
   ]
  },
  {
   "cell_type": "code",
   "execution_count": 20,
   "id": "10f3aef4-101c-4e4e-8c9c-3c08242bf79b",
   "metadata": {},
   "outputs": [
    {
     "data": {
      "text/plain": [
       "0       False\n",
       "1        True\n",
       "2       False\n",
       "3       False\n",
       "4       False\n",
       "        ...  \n",
       "3807    False\n",
       "3808    False\n",
       "3809    False\n",
       "3810    False\n",
       "3811    False\n",
       "Name: CC Provider, Length: 3812, dtype: bool"
      ]
     },
     "execution_count": 20,
     "metadata": {},
     "output_type": "execute_result"
    }
   ],
   "source": [
    "df['CC Provider'] == 'Mastercard'"
   ]
  },
  {
   "cell_type": "code",
   "execution_count": 27,
   "id": "cc592bfd-2665-41b2-a0ed-316d915b7e37",
   "metadata": {},
   "outputs": [
    {
     "data": {
      "text/html": [
       "<div>\n",
       "<style scoped>\n",
       "    .dataframe tbody tr th:only-of-type {\n",
       "        vertical-align: middle;\n",
       "    }\n",
       "\n",
       "    .dataframe tbody tr th {\n",
       "        vertical-align: top;\n",
       "    }\n",
       "\n",
       "    .dataframe thead th {\n",
       "        text-align: right;\n",
       "    }\n",
       "</style>\n",
       "<table border=\"1\" class=\"dataframe\">\n",
       "  <thead>\n",
       "    <tr style=\"text-align: right;\">\n",
       "      <th></th>\n",
       "      <th>Address</th>\n",
       "      <th>Lot</th>\n",
       "      <th>AM or PM</th>\n",
       "      <th>Browser Info</th>\n",
       "      <th>Company</th>\n",
       "      <th>Credit Card</th>\n",
       "      <th>CC Exp Date</th>\n",
       "      <th>CC Security Code</th>\n",
       "      <th>CC Provider</th>\n",
       "      <th>Email</th>\n",
       "      <th>Job</th>\n",
       "      <th>IP Address</th>\n",
       "      <th>Language</th>\n",
       "      <th>Purchase Price</th>\n",
       "    </tr>\n",
       "  </thead>\n",
       "  <tbody>\n",
       "    <tr>\n",
       "      <th>1</th>\n",
       "      <td>9374 Jasmine Spurs Suite 508\\nSouth John, TN 8...</td>\n",
       "      <td>28 rn</td>\n",
       "      <td>PM</td>\n",
       "      <td>Opera/8.93.(Windows 98; Win 9x 4.90; en-US) Pr...</td>\n",
       "      <td>Fletcher, Richards and Whitaker</td>\n",
       "      <td>3337758169645356</td>\n",
       "      <td>11/18</td>\n",
       "      <td>561</td>\n",
       "      <td>Mastercard</td>\n",
       "      <td>anthony41@reed.com</td>\n",
       "      <td>Drilling engineer</td>\n",
       "      <td>15.160.41.51</td>\n",
       "      <td>fr</td>\n",
       "      <td>70.73</td>\n",
       "    </tr>\n",
       "    <tr>\n",
       "      <th>18</th>\n",
       "      <td>461 Christopher Square\\nWest Michaelchester, C...</td>\n",
       "      <td>17 SB</td>\n",
       "      <td>PM</td>\n",
       "      <td>Mozilla/5.0 (X11; Linux i686; rv:1.9.6.20) Gec...</td>\n",
       "      <td>Beard, Abbott and Pena</td>\n",
       "      <td>6011350184276270</td>\n",
       "      <td>12/22</td>\n",
       "      <td>767</td>\n",
       "      <td>Mastercard</td>\n",
       "      <td>hannah63@yahoo.com</td>\n",
       "      <td>Photographer</td>\n",
       "      <td>73.250.176.201</td>\n",
       "      <td>el</td>\n",
       "      <td>70.15</td>\n",
       "    </tr>\n",
       "    <tr>\n",
       "      <th>31</th>\n",
       "      <td>USNS Alvarado\\nFPO AA 27052-1231</td>\n",
       "      <td>26 Lh</td>\n",
       "      <td>PM</td>\n",
       "      <td>Opera/8.84.(X11; Linux i686; sl-SI) Presto/2.9...</td>\n",
       "      <td>Nicholson Group</td>\n",
       "      <td>4614997834548</td>\n",
       "      <td>03/22</td>\n",
       "      <td>909</td>\n",
       "      <td>Mastercard</td>\n",
       "      <td>ashley12@hotmail.com</td>\n",
       "      <td>Sales executive</td>\n",
       "      <td>94.176.142.201</td>\n",
       "      <td>en</td>\n",
       "      <td>94.14</td>\n",
       "    </tr>\n",
       "    <tr>\n",
       "      <th>35</th>\n",
       "      <td>93392 Webb Gardens Apt. 220\\nLaurabury, AR 999...</td>\n",
       "      <td>37 om</td>\n",
       "      <td>AM</td>\n",
       "      <td>Mozilla/5.0 (Macintosh; U; Intel Mac OS X 10_7...</td>\n",
       "      <td>Mora Ltd</td>\n",
       "      <td>6011049630969815</td>\n",
       "      <td>09/16</td>\n",
       "      <td>367</td>\n",
       "      <td>Mastercard</td>\n",
       "      <td>hgonzalez@mcdowell.com</td>\n",
       "      <td>Lecturer, further education</td>\n",
       "      <td>216.23.95.40</td>\n",
       "      <td>zh</td>\n",
       "      <td>97.46</td>\n",
       "    </tr>\n",
       "    <tr>\n",
       "      <th>90</th>\n",
       "      <td>431 Bowen Lights\\nFergusonborough, MH 01362</td>\n",
       "      <td>31 tG</td>\n",
       "      <td>AM</td>\n",
       "      <td>Mozilla/5.0 (Windows NT 5.2; it-IT; rv:1.9.1.2...</td>\n",
       "      <td>Copeland-Lee</td>\n",
       "      <td>639032576097</td>\n",
       "      <td>06/18</td>\n",
       "      <td>868</td>\n",
       "      <td>Mastercard</td>\n",
       "      <td>nrogers@brown.com</td>\n",
       "      <td>Teacher, English as a foreign language</td>\n",
       "      <td>153.188.13.203</td>\n",
       "      <td>es</td>\n",
       "      <td>78.86</td>\n",
       "    </tr>\n",
       "    <tr>\n",
       "      <th>...</th>\n",
       "      <td>...</td>\n",
       "      <td>...</td>\n",
       "      <td>...</td>\n",
       "      <td>...</td>\n",
       "      <td>...</td>\n",
       "      <td>...</td>\n",
       "      <td>...</td>\n",
       "      <td>...</td>\n",
       "      <td>...</td>\n",
       "      <td>...</td>\n",
       "      <td>...</td>\n",
       "      <td>...</td>\n",
       "      <td>...</td>\n",
       "      <td>...</td>\n",
       "    </tr>\n",
       "    <tr>\n",
       "      <th>3693</th>\n",
       "      <td>9422 Michael Loaf Apt. 258\\nColinville, ID 207...</td>\n",
       "      <td>36 uV</td>\n",
       "      <td>AM</td>\n",
       "      <td>Mozilla/5.0 (compatible; MSIE 6.0; Windows NT ...</td>\n",
       "      <td>Miles, Harrington and Hernandez</td>\n",
       "      <td>345114026248586</td>\n",
       "      <td>02/18</td>\n",
       "      <td>5450</td>\n",
       "      <td>Mastercard</td>\n",
       "      <td>julianmoore@knight.com</td>\n",
       "      <td>Haematologist</td>\n",
       "      <td>190.246.244.153</td>\n",
       "      <td>de</td>\n",
       "      <td>99.66</td>\n",
       "    </tr>\n",
       "    <tr>\n",
       "      <th>3741</th>\n",
       "      <td>Unit 6500 Box 8386\\nDPO AP 56519-4129</td>\n",
       "      <td>10 oR</td>\n",
       "      <td>AM</td>\n",
       "      <td>Opera/8.43.(X11; Linux x86_64; it-IT) Presto/2...</td>\n",
       "      <td>Mclean-Campbell</td>\n",
       "      <td>869956895813346</td>\n",
       "      <td>12/19</td>\n",
       "      <td>36</td>\n",
       "      <td>Mastercard</td>\n",
       "      <td>owalker@jenkins.info</td>\n",
       "      <td>Fish farm manager</td>\n",
       "      <td>243.215.25.147</td>\n",
       "      <td>de</td>\n",
       "      <td>75.67</td>\n",
       "    </tr>\n",
       "    <tr>\n",
       "      <th>3770</th>\n",
       "      <td>5145 Austin Shoals Suite 297\\nLake William, NY...</td>\n",
       "      <td>01 vY</td>\n",
       "      <td>AM</td>\n",
       "      <td>Mozilla/5.0 (X11; Linux x86_64) AppleWebKit/53...</td>\n",
       "      <td>Pope-Tucker</td>\n",
       "      <td>6011426234981778</td>\n",
       "      <td>09/20</td>\n",
       "      <td>875</td>\n",
       "      <td>Mastercard</td>\n",
       "      <td>richard38@padilla-sullivan.org</td>\n",
       "      <td>Sports development officer</td>\n",
       "      <td>222.107.138.227</td>\n",
       "      <td>zh</td>\n",
       "      <td>87.53</td>\n",
       "    </tr>\n",
       "    <tr>\n",
       "      <th>3776</th>\n",
       "      <td>697 Mckee Row\\nKatieville, DE 77945-1867</td>\n",
       "      <td>38 fB</td>\n",
       "      <td>AM</td>\n",
       "      <td>Opera/8.78.(X11; Linux i686; sl-SI) Presto/2.9...</td>\n",
       "      <td>Lucas, Jackson and Jones</td>\n",
       "      <td>5270627782196622</td>\n",
       "      <td>04/23</td>\n",
       "      <td>937</td>\n",
       "      <td>Mastercard</td>\n",
       "      <td>amandahenderson@moore.com</td>\n",
       "      <td>Herbalist</td>\n",
       "      <td>164.137.228.199</td>\n",
       "      <td>el</td>\n",
       "      <td>67.71</td>\n",
       "    </tr>\n",
       "    <tr>\n",
       "      <th>3789</th>\n",
       "      <td>559 Hahn Road Apt. 860\\nAaronville, MP 30305</td>\n",
       "      <td>66 Ci</td>\n",
       "      <td>PM</td>\n",
       "      <td>Mozilla/5.0 (Windows 95; en-US; rv:1.9.2.20) G...</td>\n",
       "      <td>Cardenas, Leblanc and Clark</td>\n",
       "      <td>5383052010583638</td>\n",
       "      <td>08/19</td>\n",
       "      <td>415</td>\n",
       "      <td>Mastercard</td>\n",
       "      <td>smithcrystal@smith-davis.biz</td>\n",
       "      <td>Scientist, research (maths)</td>\n",
       "      <td>208.66.46.21</td>\n",
       "      <td>it</td>\n",
       "      <td>63.55</td>\n",
       "    </tr>\n",
       "  </tbody>\n",
       "</table>\n",
       "<p>176 rows × 14 columns</p>\n",
       "</div>"
      ],
      "text/plain": [
       "                                                Address    Lot AM or PM  \\\n",
       "1     9374 Jasmine Spurs Suite 508\\nSouth John, TN 8...  28 rn       PM   \n",
       "18    461 Christopher Square\\nWest Michaelchester, C...  17 SB       PM   \n",
       "31                     USNS Alvarado\\nFPO AA 27052-1231  26 Lh       PM   \n",
       "35    93392 Webb Gardens Apt. 220\\nLaurabury, AR 999...  37 om       AM   \n",
       "90          431 Bowen Lights\\nFergusonborough, MH 01362  31 tG       AM   \n",
       "...                                                 ...    ...      ...   \n",
       "3693  9422 Michael Loaf Apt. 258\\nColinville, ID 207...  36 uV       AM   \n",
       "3741              Unit 6500 Box 8386\\nDPO AP 56519-4129  10 oR       AM   \n",
       "3770  5145 Austin Shoals Suite 297\\nLake William, NY...  01 vY       AM   \n",
       "3776           697 Mckee Row\\nKatieville, DE 77945-1867  38 fB       AM   \n",
       "3789       559 Hahn Road Apt. 860\\nAaronville, MP 30305  66 Ci       PM   \n",
       "\n",
       "                                           Browser Info  \\\n",
       "1     Opera/8.93.(Windows 98; Win 9x 4.90; en-US) Pr...   \n",
       "18    Mozilla/5.0 (X11; Linux i686; rv:1.9.6.20) Gec...   \n",
       "31    Opera/8.84.(X11; Linux i686; sl-SI) Presto/2.9...   \n",
       "35    Mozilla/5.0 (Macintosh; U; Intel Mac OS X 10_7...   \n",
       "90    Mozilla/5.0 (Windows NT 5.2; it-IT; rv:1.9.1.2...   \n",
       "...                                                 ...   \n",
       "3693  Mozilla/5.0 (compatible; MSIE 6.0; Windows NT ...   \n",
       "3741  Opera/8.43.(X11; Linux x86_64; it-IT) Presto/2...   \n",
       "3770  Mozilla/5.0 (X11; Linux x86_64) AppleWebKit/53...   \n",
       "3776  Opera/8.78.(X11; Linux i686; sl-SI) Presto/2.9...   \n",
       "3789  Mozilla/5.0 (Windows 95; en-US; rv:1.9.2.20) G...   \n",
       "\n",
       "                              Company       Credit Card CC Exp Date  \\\n",
       "1     Fletcher, Richards and Whitaker  3337758169645356       11/18   \n",
       "18             Beard, Abbott and Pena  6011350184276270       12/22   \n",
       "31                    Nicholson Group     4614997834548       03/22   \n",
       "35                           Mora Ltd  6011049630969815       09/16   \n",
       "90                       Copeland-Lee      639032576097       06/18   \n",
       "...                               ...               ...         ...   \n",
       "3693  Miles, Harrington and Hernandez   345114026248586       02/18   \n",
       "3741                  Mclean-Campbell   869956895813346       12/19   \n",
       "3770                      Pope-Tucker  6011426234981778       09/20   \n",
       "3776         Lucas, Jackson and Jones  5270627782196622       04/23   \n",
       "3789      Cardenas, Leblanc and Clark  5383052010583638       08/19   \n",
       "\n",
       "      CC Security Code CC Provider                           Email  \\\n",
       "1                  561  Mastercard              anthony41@reed.com   \n",
       "18                 767  Mastercard              hannah63@yahoo.com   \n",
       "31                 909  Mastercard            ashley12@hotmail.com   \n",
       "35                 367  Mastercard          hgonzalez@mcdowell.com   \n",
       "90                 868  Mastercard               nrogers@brown.com   \n",
       "...                ...         ...                             ...   \n",
       "3693              5450  Mastercard          julianmoore@knight.com   \n",
       "3741                36  Mastercard            owalker@jenkins.info   \n",
       "3770               875  Mastercard  richard38@padilla-sullivan.org   \n",
       "3776               937  Mastercard       amandahenderson@moore.com   \n",
       "3789               415  Mastercard    smithcrystal@smith-davis.biz   \n",
       "\n",
       "                                         Job       IP Address Language  \\\n",
       "1                          Drilling engineer     15.160.41.51       fr   \n",
       "18                              Photographer   73.250.176.201       el   \n",
       "31                           Sales executive   94.176.142.201       en   \n",
       "35               Lecturer, further education     216.23.95.40       zh   \n",
       "90    Teacher, English as a foreign language   153.188.13.203       es   \n",
       "...                                      ...              ...      ...   \n",
       "3693                           Haematologist  190.246.244.153       de   \n",
       "3741                       Fish farm manager   243.215.25.147       de   \n",
       "3770              Sports development officer  222.107.138.227       zh   \n",
       "3776                               Herbalist  164.137.228.199       el   \n",
       "3789             Scientist, research (maths)     208.66.46.21       it   \n",
       "\n",
       "      Purchase Price  \n",
       "1              70.73  \n",
       "18             70.15  \n",
       "31             94.14  \n",
       "35             97.46  \n",
       "90             78.86  \n",
       "...              ...  \n",
       "3693           99.66  \n",
       "3741           75.67  \n",
       "3770           87.53  \n",
       "3776           67.71  \n",
       "3789           63.55  \n",
       "\n",
       "[176 rows x 14 columns]"
      ]
     },
     "execution_count": 27,
     "metadata": {},
     "output_type": "execute_result"
    }
   ],
   "source": [
    "df[(df['CC Provider'] == 'Mastercard') & (df['Purchase Price'] > 50)]"
   ]
  },
  {
   "cell_type": "code",
   "execution_count": 29,
   "id": "536bfa1d-2439-4fe9-8135-1b9c1b0cb784",
   "metadata": {},
   "outputs": [
    {
     "data": {
      "text/plain": [
       "176"
      ]
     },
     "execution_count": 29,
     "metadata": {},
     "output_type": "execute_result"
    }
   ],
   "source": [
    "len(df[(df['CC Provider'] == 'Mastercard') & (df['Purchase Price'] > 50)])"
   ]
  },
  {
   "cell_type": "markdown",
   "id": "3de41893-aa0a-4a62-94f2-8770f4b5a07f",
   "metadata": {},
   "source": [
    "#Find Email of the person with the following credit card number: 6011350184276270"
   ]
  },
  {
   "cell_type": "code",
   "execution_count": 35,
   "id": "aaaed999-465c-484d-a6d3-01e6785b350a",
   "metadata": {},
   "outputs": [
    {
     "data": {
      "text/plain": [
       "Index(['Address', 'Lot', 'AM or PM', 'Browser Info', 'Company', 'Credit Card',\n",
       "       'CC Exp Date', 'CC Security Code', 'CC Provider', 'Email', 'Job',\n",
       "       'IP Address', 'Language', 'Purchase Price'],\n",
       "      dtype='object')"
      ]
     },
     "execution_count": 35,
     "metadata": {},
     "output_type": "execute_result"
    }
   ],
   "source": [
    "df.columns"
   ]
  },
  {
   "cell_type": "code",
   "execution_count": 38,
   "id": "ac0091f6-be18-49f7-b846-8ccaf32586c2",
   "metadata": {},
   "outputs": [
    {
     "data": {
      "text/plain": [
       "18    hannah63@yahoo.com\n",
       "Name: Email, dtype: object"
      ]
     },
     "execution_count": 38,
     "metadata": {},
     "output_type": "execute_result"
    }
   ],
   "source": [
    "df[df['Credit Card'] == 6011350184276270]['Email']"
   ]
  },
  {
   "cell_type": "markdown",
   "id": "58c1356b-056d-45f6-a230-2d298a3dfa32",
   "metadata": {},
   "source": [
    "#How many people purchase during the AM and how many people purchase during pm"
   ]
  },
  {
   "cell_type": "code",
   "execution_count": 45,
   "id": "058ab3f1-a68c-4be5-8055-3186297e0845",
   "metadata": {},
   "outputs": [
    {
     "data": {
      "image/png": "[encoded data removed]",
      "text/plain": [
       "<Figure size 640x480 with 1 Axes>"
      ]
     },
     "metadata": {},
     "output_type": "display_data"
    }
   ],
   "source": [
    "a = sns.countplot(data=df, x = 'AM or PM')\n",
    "\n",
    "for bars in a.containers:\n",
    "    a.bar_label(bars)"
   ]
  },
  {
   "cell_type": "markdown",
   "id": "07b58107-c32d-4950-86d5-7d68a56daf88",
   "metadata": {},
   "source": [
    "#How many people have a credit card that expires in 2020?"
   ]
  },
  {
   "cell_type": "code",
   "execution_count": 46,
   "id": "3c93d8e2-cf67-458d-9f1b-7b15a68d60f3",
   "metadata": {},
   "outputs": [
    {
     "data": {
      "text/plain": [
       "Index(['Address', 'Lot', 'AM or PM', 'Browser Info', 'Company', 'Credit Card',\n",
       "       'CC Exp Date', 'CC Security Code', 'CC Provider', 'Email', 'Job',\n",
       "       'IP Address', 'Language', 'Purchase Price'],\n",
       "      dtype='object')"
      ]
     },
     "execution_count": 46,
     "metadata": {},
     "output_type": "execute_result"
    }
   ],
   "source": [
    "df.columns"
   ]
  },
  {
   "cell_type": "code",
   "execution_count": 50,
   "id": "2abd9eb0-1a77-45d6-b3ef-efe4c3bf14c6",
   "metadata": {},
   "outputs": [
    {
     "data": {
      "text/plain": [
       "3812"
      ]
     },
     "execution_count": 50,
     "metadata": {},
     "output_type": "execute_result"
    }
   ],
   "source": [
    "len(df[df['CC Exp Date'] < '2020'])"
   ]
  },
  {
   "cell_type": "markdown",
   "id": "09b6c23a-c78d-4560-bfd2-d0265e592c2b",
   "metadata": {},
   "source": [
    "#Objective >> it's for practice purpose only no"
   ]
  }
 ],
 "metadata": {
  "kernelspec": {
   "display_name": "Python 3 (ipykernel)",
   "language": "python",
   "name": "python3"
  },
  "language_info": {
   "codemirror_mode": {
    "name": "ipython",
    "version": 3
   },
   "file_extension": ".py",
   "mimetype": "text/x-python",
   "name": "python",
   "nbconvert_exporter": "python",
   "pygments_lexer": "ipython3",
   "version": "3.10.0"
  }
 },
 "nbformat": 4,
 "nbformat_minor": 5
}
